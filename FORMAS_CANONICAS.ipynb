{
  "nbformat": 4,
  "nbformat_minor": 0,
  "metadata": {
    "colab": {
      "provenance": [],
      "authorship_tag": "ABX9TyOwsxv5FBcvxjgoZ5wc5dPD",
      "include_colab_link": true
    },
    "kernelspec": {
      "name": "python3",
      "display_name": "Python 3"
    },
    "language_info": {
      "name": "python"
    }
  },
  "cells": [
    {
      "cell_type": "markdown",
      "metadata": {
        "id": "view-in-github",
        "colab_type": "text"
      },
      "source": [
        "<a href=\"https://colab.research.google.com/github/Fer-2022/EDP-1/blob/main/FORMAS_CANONICAS.ipynb\" target=\"_parent\"><img src=\"https://colab.research.google.com/assets/colab-badge.svg\" alt=\"Open In Colab\"/></a>"
      ]
    },
    {
      "cell_type": "markdown",
      "source": [
        "![Imagen de WhatsApp 2025-05-28 a las 13.43.26_e377b5a2.jpg](data:image/jpeg;base64,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)"
      ],
      "metadata": {
        "id": "a4OjFMGKbGuC"
      }
    },
    {
      "cell_type": "code",
      "source": [
        "import sympy as sp"
      ],
      "metadata": {
        "id": "JgLZtJ3zbJQS"
      },
      "execution_count": 1,
      "outputs": []
    },
    {
      "cell_type": "markdown",
      "source": [
        "Definir variables simbólicas"
      ],
      "metadata": {
        "id": "8kPKab8ibevi"
      }
    },
    {
      "cell_type": "code",
      "source": [
        "x, y = sp.symbols('x y')\n",
        "U = sp.Function('U')(x, y)\n",
        "\n",
        "# Coeficientes de la EDP: A U_xx + 2B U_xy + C U_yy + ...\n",
        "A = 1\n",
        "B = -2  # porque -4U_xy → 2B = -4 → B = -2\n",
        "C = 4"
      ],
      "metadata": {
        "id": "jwIhfM4jbh-C"
      },
      "execution_count": 2,
      "outputs": []
    },
    {
      "cell_type": "markdown",
      "source": [
        " Paso 1: Determinar el tipo de la EDP"
      ],
      "metadata": {
        "id": "2id6UT-zbnIC"
      }
    },
    {
      "cell_type": "code",
      "source": [
        "discriminante = B**2 - 4*A*C\n",
        "if discriminante > 0:\n",
        "    tipo = \"Hiperbólica\"\n",
        "elif discriminante == 0:\n",
        "    tipo = \"Parabólica\"\n",
        "else:\n",
        "    tipo = \"Elíptica\""
      ],
      "metadata": {
        "id": "GC3GYEaMbrQq"
      },
      "execution_count": 3,
      "outputs": []
    },
    {
      "cell_type": "markdown",
      "source": [
        "Paso 2: Transformación lineal (solo si es hiperbólica)"
      ],
      "metadata": {
        "id": "7MuGAmS1bz_B"
      }
    },
    {
      "cell_type": "code",
      "source": [
        "xi_expr = -(B + sp.sqrt(discriminante)) * x + 2*A*y\n",
        "eta_expr = -(B - sp.sqrt(discriminante)) * x + 2*A*y"
      ],
      "metadata": {
        "id": "UP2cPa3bb1XZ"
      },
      "execution_count": 4,
      "outputs": []
    },
    {
      "cell_type": "markdown",
      "source": [
        " Mostrar resultados"
      ],
      "metadata": {
        "id": "h7or2KbCb4zC"
      }
    },
    {
      "cell_type": "code",
      "source": [
        "print(f\"Tipo de ecuación: {tipo}\")\n",
        "print(f\"ξ(x, y) = {xi_expr}\")\n",
        "print(f\"η(x, y) = {eta_expr}\")"
      ],
      "metadata": {
        "colab": {
          "base_uri": "https://localhost:8080/"
        },
        "id": "0gHRmclfb7vZ",
        "outputId": "b00fc333-5efa-4977-ee81-1a2df3498ff1"
      },
      "execution_count": 5,
      "outputs": [
        {
          "output_type": "stream",
          "name": "stdout",
          "text": [
            "Tipo de ecuación: Elíptica\n",
            "ξ(x, y) = x*(2 - 2*sqrt(3)*I) + 2*y\n",
            "η(x, y) = x*(2 + 2*sqrt(3)*I) + 2*y\n"
          ]
        }
      ]
    },
    {
      "cell_type": "code",
      "source": [
        "import sympy as sp"
      ],
      "metadata": {
        "id": "17HvMamZc475"
      },
      "execution_count": 6,
      "outputs": []
    },
    {
      "cell_type": "markdown",
      "source": [
        "Paso 1: Definir variables simbólicas"
      ],
      "metadata": {
        "id": "Al_DoPfndqm6"
      }
    },
    {
      "cell_type": "code",
      "source": [
        "# Paso 1: Definimos las variables\n",
        "x, y = sp.symbols('x y')\n",
        "xi, eta = sp.symbols('xi eta')\n",
        "U = sp.Function('U')(xi, eta)  # U ahora depende de xi y eta\n",
        "\n",
        "# Coeficientes de la ecuación original\n",
        "A = 1\n",
        "B = -2\n",
        "C = 4"
      ],
      "metadata": {
        "id": "eM9uN11wdlMy"
      },
      "execution_count": 14,
      "outputs": []
    },
    {
      "cell_type": "markdown",
      "source": [
        "Discriminante y tipo de EDP"
      ],
      "metadata": {
        "id": "1HT8I7Hmdv6C"
      }
    },
    {
      "cell_type": "code",
      "source": [
        "\n",
        "# Discriminante\n",
        "D = B**2 - 4*A*C\n",
        "if D > 0:\n",
        "    tipo = \"Hiperbólica\"\n",
        "elif D == 0:\n",
        "    tipo = \"Parabólica\"\n",
        "else:\n",
        "    tipo = \"Elíptica\"\n",
        "\n",
        "print(f\"Tipo de ecuación: {tipo}\")"
      ],
      "metadata": {
        "colab": {
          "base_uri": "https://localhost:8080/"
        },
        "id": "C0dwJRkRdz1K",
        "outputId": "ebe98461-96a6-4efd-c85e-9e99ffdb8349"
      },
      "execution_count": 13,
      "outputs": [
        {
          "output_type": "stream",
          "name": "stdout",
          "text": [
            "Tipo de ecuación: Elíptica\n"
          ]
        }
      ]
    },
    {
      "cell_type": "markdown",
      "source": [
        "Paso 2: Transformación lineal (válido solo para hiperbólicas)"
      ],
      "metadata": {
        "id": "8qPOHkuEd33i"
      }
    },
    {
      "cell_type": "code",
      "source": [
        "xi_expr = -(B + sp.sqrt(D))*x + 2*A*y\n",
        "eta_expr = -(B - sp.sqrt(D))*x + 2*A*y\n",
        "print(f\"\\nξ(x, y) = {xi_expr}\")\n",
        "print(f\"η(x, y) = {eta_expr}\")\n",
        "\n",
        "# Derivadas parciales de xi y eta\n",
        "xi_x = sp.diff(xi_expr, x)\n",
        "xi_y = sp.diff(xi_expr, y)\n",
        "eta_x = sp.diff(eta_expr, x)\n",
        "eta_y = sp.diff(eta_expr, y)"
      ],
      "metadata": {
        "colab": {
          "base_uri": "https://localhost:8080/"
        },
        "id": "8aSI9bIRd7U6",
        "outputId": "ed0a9717-92b5-4524-84e7-0dfdc1d2558a"
      },
      "execution_count": 15,
      "outputs": [
        {
          "output_type": "stream",
          "name": "stdout",
          "text": [
            "\n",
            "ξ(x, y) = x*(2 - 2*sqrt(3)*I) + 2*y\n",
            "η(x, y) = x*(2 + 2*sqrt(3)*I) + 2*y\n"
          ]
        }
      ]
    },
    {
      "cell_type": "markdown",
      "source": [
        " Derivadas parciales por regla de la cadena"
      ],
      "metadata": {
        "id": "ihkvG8QYeLYi"
      }
    },
    {
      "cell_type": "code",
      "source": [
        "# Primeras derivadas\n",
        "Ux = sp.diff(U, xi)*xi_x + sp.diff(U, eta)*eta_x\n",
        "Uy = sp.diff(U, xi)*xi_y + sp.diff(U, eta)*eta_y\n",
        "\n",
        "# Segundas derivadas\n",
        "Uxx = sp.diff(Ux, x)\n",
        "Uxy = sp.diff(Ux, y)\n",
        "Uyy = sp.diff(Uy, y)"
      ],
      "metadata": {
        "id": "Zg3QsjLJeNxb"
      },
      "execution_count": 16,
      "outputs": []
    },
    {
      "cell_type": "markdown",
      "source": [
        "Resultado"
      ],
      "metadata": {
        "id": "z_a2hlkCeUSS"
      }
    },
    {
      "cell_type": "code",
      "source": [
        "# Sustituimos en la ecuación original\n",
        "EDP = A*Uxx + 2*B*Uxy + C*Uyy\n",
        "EDP_simplificada = sp.simplify(sp.expand(EDP))\n",
        "\n",
        "print(\"\\nEcuación en forma canónica (términos de segundo orden):\")\n",
        "sp.pprint(EDP_simplificada)"
      ],
      "metadata": {
        "colab": {
          "base_uri": "https://localhost:8080/"
        },
        "id": "2Sof-r5xeXIi",
        "outputId": "c398a89e-b8f7-4e6f-864b-80e34d98cd0e"
      },
      "execution_count": 17,
      "outputs": [
        {
          "output_type": "stream",
          "name": "stdout",
          "text": [
            "\n",
            "Ecuación en forma canónica (términos de segundo orden):\n",
            "0\n"
          ]
        }
      ]
    },
    {
      "cell_type": "markdown",
      "source": [
        "![Imagen de WhatsApp 2025-05-28 a las 14.04.15_0c0a23e9.jpg](data:image/jpeg;base64,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)"
      ],
      "metadata": {
        "id": "L3EHkHQzf0Rz"
      }
    },
    {
      "cell_type": "code",
      "source": [
        "import sympy as sp\n"
      ],
      "metadata": {
        "id": "zv3T32kzf1Ga"
      },
      "execution_count": 18,
      "outputs": []
    },
    {
      "cell_type": "markdown",
      "source": [
        " Paso 1: Variables simbólicas"
      ],
      "metadata": {
        "id": "jefX5Zaif52b"
      }
    },
    {
      "cell_type": "code",
      "source": [
        "# Paso 1: Variables simbólicas\n",
        "x, y = sp.symbols('x y')\n",
        "xi, eta = sp.symbols('xi eta')\n",
        "U = sp.Function('U')(xi, eta)\n",
        "\n",
        "# Coeficientes de la EDP\n",
        "A = 1\n",
        "B = -2\n",
        "C = 1"
      ],
      "metadata": {
        "id": "LX8stxzJf9ID"
      },
      "execution_count": 33,
      "outputs": []
    },
    {
      "cell_type": "markdown",
      "source": [
        " Determinar tipo de EDP"
      ],
      "metadata": {
        "id": "8ew1fECHgA9j"
      }
    },
    {
      "cell_type": "code",
      "source": [
        "D = B**2 - 4*A*C\n",
        "if D > 0:\n",
        "    tipo = \"Hiperbólica\"\n",
        "elif D == 0:\n",
        "    tipo = \"Parabólica\"\n",
        "else:\n",
        "    tipo = \"Elíptica\"\n",
        "print(f\"Tipo de ecuación: {tipo}\")"
      ],
      "metadata": {
        "colab": {
          "base_uri": "https://localhost:8080/"
        },
        "id": "58XYvswQgD2k",
        "outputId": "0649da14-a065-4532-ba0a-7a9a9029295b"
      },
      "execution_count": 34,
      "outputs": [
        {
          "output_type": "stream",
          "name": "stdout",
          "text": [
            "Tipo de ecuación: Parabólica\n"
          ]
        }
      ]
    },
    {
      "cell_type": "markdown",
      "source": [
        "Paso 2: Cambio de variable para parabólicas"
      ],
      "metadata": {
        "id": "CHEDM4R1gOmC"
      }
    },
    {
      "cell_type": "code",
      "source": [
        "xi_expr = -B*x + 2*A*y   # Nota: aquí usamos -B y 2A\n",
        "eta_expr = x\n",
        "\n",
        "# Verificar transformación\n",
        "print(f\"\\nξ(x, y) = {xi_expr}\")\n",
        "print(f\"η(x, y) = {eta_expr}\")"
      ],
      "metadata": {
        "colab": {
          "base_uri": "https://localhost:8080/"
        },
        "id": "c1LRsdu2gHmD",
        "outputId": "9c2e0c92-87e3-4e9b-edde-1d54cdf8a3c6"
      },
      "execution_count": 35,
      "outputs": [
        {
          "output_type": "stream",
          "name": "stdout",
          "text": [
            "\n",
            "ξ(x, y) = 2*x + 2*y\n",
            "η(x, y) = x\n"
          ]
        }
      ]
    },
    {
      "cell_type": "markdown",
      "source": [
        "Derivadas parciales del cambio"
      ],
      "metadata": {
        "id": "XQ1M2TAWgWTz"
      }
    },
    {
      "cell_type": "code",
      "source": [
        "xi_x = sp.diff(xi_expr, x)\n",
        "xi_y = sp.diff(xi_expr, y)\n",
        "eta_x = sp.diff(eta_expr, x)\n",
        "eta_y = sp.diff(eta_expr, y)\n",
        "\n",
        "# Derivadas de primer orden\n",
        "U_x = sp.diff(U, xi)*xi_x + sp.diff(U, eta)*eta_x\n",
        "U_y = sp.diff(U, xi)*xi_y + sp.diff(U, eta)*eta_y\n",
        "\n",
        "# Derivadas de segundo orden\n",
        "U_xx = sp.diff(U_x, x)\n",
        "U_xy = sp.diff(U_x, y)\n",
        "U_yy = sp.diff(U_y, y)\n"
      ],
      "metadata": {
        "id": "BpNDnyA6gZKr"
      },
      "execution_count": 36,
      "outputs": []
    },
    {
      "cell_type": "markdown",
      "source": [
        "Resultado"
      ],
      "metadata": {
        "id": "k7f0GyCtgjZT"
      }
    },
    {
      "cell_type": "code",
      "source": [
        "# Sustituimos en la EDP: U_xx - 4*U_xy + 4*U_yy\n",
        "EDP_segundo_orden = A*U_xx + 2*B*U_xy + C*U_yy\n",
        "EDP_canonica = sp.simplify(sp.expand(EDP_segundo_orden))\n",
        "\n",
        "print(\"\\nForma canónica de la EDP (solo términos de segundo orden):\")\n",
        "sp.pprint(EDP_canonica)"
      ],
      "metadata": {
        "colab": {
          "base_uri": "https://localhost:8080/"
        },
        "id": "jBkdU6JignAj",
        "outputId": "e6fc7694-a8d6-45f3-98ec-ccf43f1371f8"
      },
      "execution_count": 37,
      "outputs": [
        {
          "output_type": "stream",
          "name": "stdout",
          "text": [
            "\n",
            "Forma canónica de la EDP (solo términos de segundo orden):\n",
            "0\n"
          ]
        }
      ]
    }
  ]
}